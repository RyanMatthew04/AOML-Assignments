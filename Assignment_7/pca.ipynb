{
 "cells": [
  {
   "cell_type": "code",
   "execution_count": 1,
   "metadata": {},
   "outputs": [
    {
     "name": "stdout",
     "output_type": "stream",
     "text": [
      "Baseline Model - Accuracy: 0.8551, Training Time: 7.38s, Inference Time: 0.0417s\n",
      "Reduced Dimensionality: 256\n",
      "PCA Model - Accuracy: 0.8171, Training Time: 13.45s, Inference Time: 0.0243s\n",
      "\n",
      "Performance Comparison:\n",
      "Accuracy Drop: 0.0380\n",
      "Training Time Reduction: -6.07s\n",
      "Inference Time Reduction: 0.0174s\n"
     ]
    }
   ],
   "source": [
    "import time\n",
    "import numpy as np\n",
    "import matplotlib.pyplot as plt\n",
    "from sklearn.decomposition import PCA\n",
    "from sklearn.ensemble import RandomForestClassifier\n",
    "from sklearn.metrics import accuracy_score\n",
    "from tensorflow.keras.datasets import fashion_mnist\n",
    "from sklearn.preprocessing import StandardScaler\n",
    "\n",
    "# Load Fashion MNIST dataset\n",
    "(X_train, y_train), (X_test, y_test) = fashion_mnist.load_data()\n",
    "\n",
    "# Flatten images from 28x28 to 784\n",
    "X_train = X_train.reshape(X_train.shape[0], -1)\n",
    "X_test = X_test.reshape(X_test.shape[0], -1)\n",
    "\n",
    "# Normalize the data\n",
    "scaler = StandardScaler()\n",
    "X_train = scaler.fit_transform(X_train)\n",
    "X_test = scaler.transform(X_test)\n",
    "\n",
    "# Train a baseline model\n",
    "clf = RandomForestClassifier(n_estimators=10, random_state=42)\n",
    "start_time = time.time()\n",
    "clf.fit(X_train, y_train)\n",
    "baseline_train_time = time.time() - start_time\n",
    "\n",
    "# Evaluate baseline model\n",
    "start_time = time.time()\n",
    "y_pred = clf.predict(X_test)\n",
    "baseline_inference_time = time.time() - start_time\n",
    "baseline_accuracy = accuracy_score(y_test, y_pred)\n",
    "\n",
    "print(f\"Baseline Model - Accuracy: {baseline_accuracy:.4f}, Training Time: {baseline_train_time:.2f}s, Inference Time: {baseline_inference_time:.4f}s\")\n",
    "\n",
    "# Apply PCA\n",
    "pca = PCA(n_components=0.95)  # Retain 95% variance\n",
    "X_train_pca = pca.fit_transform(X_train)\n",
    "X_test_pca = pca.transform(X_test)\n",
    "\n",
    "print(f\"Reduced Dimensionality: {X_train_pca.shape[1]}\")\n",
    "\n",
    "# Train model on PCA-transformed data\n",
    "clf_pca = RandomForestClassifier(n_estimators=10, random_state=42)\n",
    "start_time = time.time()\n",
    "clf_pca.fit(X_train_pca, y_train)\n",
    "pca_train_time = time.time() - start_time\n",
    "\n",
    "# Evaluate PCA model\n",
    "start_time = time.time()\n",
    "y_pred_pca = clf_pca.predict(X_test_pca)\n",
    "pca_inference_time = time.time() - start_time\n",
    "pca_accuracy = accuracy_score(y_test, y_pred_pca)\n",
    "\n",
    "print(f\"PCA Model - Accuracy: {pca_accuracy:.4f}, Training Time: {pca_train_time:.2f}s, Inference Time: {pca_inference_time:.4f}s\")\n",
    "\n",
    "# Compare Performance\n",
    "print(\"\\nPerformance Comparison:\")\n",
    "print(f\"Accuracy Drop: {baseline_accuracy - pca_accuracy:.4f}\")\n",
    "print(f\"Training Time Reduction: {baseline_train_time - pca_train_time:.2f}s\")\n",
    "print(f\"Inference Time Reduction: {baseline_inference_time - pca_inference_time:.4f}s\")\n"
   ]
  },
  {
   "cell_type": "code",
   "execution_count": null,
   "metadata": {},
   "outputs": [],
   "source": []
  }
 ],
 "metadata": {
  "kernelspec": {
   "display_name": "aoml",
   "language": "python",
   "name": "python3"
  },
  "language_info": {
   "codemirror_mode": {
    "name": "ipython",
    "version": 3
   },
   "file_extension": ".py",
   "mimetype": "text/x-python",
   "name": "python",
   "nbconvert_exporter": "python",
   "pygments_lexer": "ipython3",
   "version": "3.9.21"
  }
 },
 "nbformat": 4,
 "nbformat_minor": 2
}
